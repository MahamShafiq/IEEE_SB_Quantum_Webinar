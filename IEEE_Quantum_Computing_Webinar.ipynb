{
  "nbformat": 4,
  "nbformat_minor": 0,
  "metadata": {
    "kernelspec": {
      "display_name": "Python 3",
      "language": "python",
      "name": "python3"
    },
    "language_info": {
      "codemirror_mode": {
        "name": "ipython",
        "version": 3
      },
      "file_extension": ".py",
      "mimetype": "text/x-python",
      "name": "python",
      "nbconvert_exporter": "python",
      "pygments_lexer": "ipython3",
      "version": "3.7.2"
    },
    "colab": {
      "name": "IEEE_Quantum_Computing_Webinar.ipynb",
      "provenance": [],
      "toc_visible": true,
      "include_colab_link": true
    }
  },
  "cells": [
    {
      "cell_type": "markdown",
      "metadata": {
        "id": "view-in-github",
        "colab_type": "text"
      },
      "source": [
        "<a href=\"https://colab.research.google.com/github/MahamShafiq/IEEE_SB_Quantum_Webinar/blob/master/IEEE_Quantum_Computing_Webinar.ipynb\" target=\"_parent\"><img src=\"https://colab.research.google.com/assets/colab-badge.svg\" alt=\"Open In Colab\"/></a>"
      ]
    },
    {
      "cell_type": "markdown",
      "metadata": {
        "id": "jgcTsXRsga87",
        "colab_type": "text"
      },
      "source": [
        "<img src=\"https://github.com/mtreinish/qiskit-workshop/blob/master/qiskit-heading.png?raw=1\" alt=\"Drawing\" style=\"width: 300px;\"/>\n",
        "\n",
        "\n",
        "# Stepping Into the World of Quantum Computing: with Qiskit\n",
        "\n"
      ]
    },
    {
      "cell_type": "markdown",
      "metadata": {
        "id": "UPjvlGF2ga9B",
        "colab_type": "text"
      },
      "source": [
        "To get started we'll need to install Qiskit. If you have Python >= 3.5 and Jupyter installed you can run this locally. Or alternatively you can run this in Google Colab (if you have a Google account):\n",
        "\n",
        "\n",
        "if you have not installed Qiskit before (or you are running in colab) you can uncomment and run the following cell to install it:"
      ]
    },
    {
      "cell_type": "code",
      "metadata": {
        "id": "TYI7VuaRga9C",
        "colab_type": "code",
        "outputId": "1178a2a5-7624-4a73-96e1-ccc2280b59c7",
        "colab": {
          "base_uri": "https://localhost:8080/",
          "height": 1000
        }
      },
      "source": [
        "!pip install qiskit"
      ],
      "execution_count": 1,
      "outputs": [
        {
          "output_type": "stream",
          "text": [
            "Collecting qiskit\n",
            "  Downloading https://files.pythonhosted.org/packages/db/a4/587cbe0186990b0f07b6161458461ae8d9ddbccdb00f827a23384eeb77fa/qiskit-0.19.3.tar.gz\n",
            "Collecting qiskit-terra==0.14.1\n",
            "\u001b[?25l  Downloading https://files.pythonhosted.org/packages/55/c3/6c3561cbcf69a791307ada32d61b4eeb7ab6a38ac968e0f1e36f0e40b249/qiskit_terra-0.14.1-cp36-cp36m-manylinux2010_x86_64.whl (6.7MB)\n",
            "\u001b[K     |████████████████████████████████| 6.7MB 2.8MB/s \n",
            "\u001b[?25hCollecting qiskit-aer==0.5.2\n",
            "\u001b[?25l  Downloading https://files.pythonhosted.org/packages/45/6f/2d269684891b634cce6ddb5684fd004c7b6bf986cec8544f4b6f495c8b99/qiskit_aer-0.5.2-cp36-cp36m-manylinux2010_x86_64.whl (23.3MB)\n",
            "\u001b[K     |████████████████████████████████| 23.3MB 1.6MB/s \n",
            "\u001b[?25hCollecting qiskit-ibmq-provider==0.7.2\n",
            "\u001b[?25l  Downloading https://files.pythonhosted.org/packages/92/1f/0c6b290064a471a8a9c1e3366367b46d320efdad6b730eadefbd1f3c4eb0/qiskit_ibmq_provider-0.7.2-py3-none-any.whl (155kB)\n",
            "\u001b[K     |████████████████████████████████| 163kB 42.8MB/s \n",
            "\u001b[?25hCollecting qiskit-ignis==0.3.0\n",
            "\u001b[?25l  Downloading https://files.pythonhosted.org/packages/b9/f5/25c92e7c816da820163d0e951b5f340a5f69a4088c42fb44df4a9ba6bf14/qiskit_ignis-0.3.0-py3-none-any.whl (172kB)\n",
            "\u001b[K     |████████████████████████████████| 174kB 51.0MB/s \n",
            "\u001b[?25hCollecting qiskit-aqua==0.7.1\n",
            "\u001b[?25l  Downloading https://files.pythonhosted.org/packages/f4/dc/fa9282e9a40ca4adc6cf0a542fd04b179d477d54e8197c043b02deeb542b/qiskit_aqua-0.7.1-py3-none-any.whl (1.9MB)\n",
            "\u001b[K     |████████████████████████████████| 1.9MB 49.7MB/s \n",
            "\u001b[?25hCollecting marshmallow<4,>=3\n",
            "\u001b[?25l  Downloading https://files.pythonhosted.org/packages/8e/4d/1c64381398d25bc46250373dbeec89713f06e23eba8531c9eccd4e671a8a/marshmallow-3.6.1-py2.py3-none-any.whl (45kB)\n",
            "\u001b[K     |████████████████████████████████| 51kB 7.2MB/s \n",
            "\u001b[?25hRequirement already satisfied: psutil>=5 in /usr/local/lib/python3.6/dist-packages (from qiskit-terra==0.14.1->qiskit) (5.4.8)\n",
            "Requirement already satisfied: scipy>=1.4 in /usr/local/lib/python3.6/dist-packages (from qiskit-terra==0.14.1->qiskit) (1.4.1)\n",
            "Collecting sympy>=1.3\n",
            "\u001b[?25l  Downloading https://files.pythonhosted.org/packages/a4/ea/590e1f2c73a1b8f878a1398b0edbf261d660439a9f851accb39db73d8e2f/sympy-1.6-py3-none-any.whl (5.8MB)\n",
            "\u001b[K     |████████████████████████████████| 5.8MB 41.4MB/s \n",
            "\u001b[?25hCollecting python-constraint>=1.4\n",
            "  Downloading https://files.pythonhosted.org/packages/37/8b/5f1bc2734ca611943e1d6733ee244238679f6410a10cd45ede55a61a8402/python-constraint-1.4.0.tar.bz2\n",
            "Requirement already satisfied: dill>=0.3 in /usr/local/lib/python3.6/dist-packages (from qiskit-terra==0.14.1->qiskit) (0.3.1.1)\n",
            "Collecting fastjsonschema>=2.10\n",
            "  Downloading https://files.pythonhosted.org/packages/3a/2b/5e93ebbdc92fe742bfc006f79336c2ddcb436747ef579bc05057c43ad876/fastjsonschema-2.14.4-py3-none-any.whl\n",
            "Requirement already satisfied: python-dateutil>=2.8.0 in /usr/local/lib/python3.6/dist-packages (from qiskit-terra==0.14.1->qiskit) (2.8.1)\n",
            "Requirement already satisfied: jsonschema>=2.6 in /usr/local/lib/python3.6/dist-packages (from qiskit-terra==0.14.1->qiskit) (2.6.0)\n",
            "Collecting marshmallow-polyfield<6,>=5.7\n",
            "  Downloading https://files.pythonhosted.org/packages/0c/7e/ceb805d05cd03709b8de122b4ac1e736c4eb91d05281ad2a2bcb484accef/marshmallow-polyfield-5.9.tar.gz\n",
            "Collecting ply>=3.10\n",
            "\u001b[?25l  Downloading https://files.pythonhosted.org/packages/a3/58/35da89ee790598a0700ea49b2a66594140f44dec458c07e8e3d4979137fc/ply-3.11-py2.py3-none-any.whl (49kB)\n",
            "\u001b[K     |████████████████████████████████| 51kB 7.3MB/s \n",
            "\u001b[?25hRequirement already satisfied: networkx>=2.2; python_version > \"3.5\" in /usr/local/lib/python3.6/dist-packages (from qiskit-terra==0.14.1->qiskit) (2.4)\n",
            "Requirement already satisfied: numpy>=1.17 in /usr/local/lib/python3.6/dist-packages (from qiskit-terra==0.14.1->qiskit) (1.18.5)\n",
            "Collecting retworkx>=0.3.2\n",
            "\u001b[?25l  Downloading https://files.pythonhosted.org/packages/28/44/e28d30808fc093bb82393737f36f1fd370afe5ed82a08c382c4672340916/retworkx-0.3.4-cp36-cp36m-manylinux2010_x86_64.whl (763kB)\n",
            "\u001b[K     |████████████████████████████████| 768kB 42.1MB/s \n",
            "\u001b[?25hRequirement already satisfied: cython>=0.27.1 in /usr/local/lib/python3.6/dist-packages (from qiskit-aer==0.5.2->qiskit) (0.29.19)\n",
            "Collecting pybind11>=2.4\n",
            "\u001b[?25l  Downloading https://files.pythonhosted.org/packages/89/e3/d576f6f02bc75bacbc3d42494e8f1d063c95617d86648dba243c2cb3963e/pybind11-2.5.0-py2.py3-none-any.whl (296kB)\n",
            "\u001b[K     |████████████████████████████████| 296kB 45.7MB/s \n",
            "\u001b[?25hCollecting websockets<8,>=7\n",
            "\u001b[?25l  Downloading https://files.pythonhosted.org/packages/43/71/8bfa882b9c502c36e5c9ef6732969533670d2b039cbf95a82ced8f762b80/websockets-7.0-cp36-cp36m-manylinux1_x86_64.whl (63kB)\n",
            "\u001b[K     |████████████████████████████████| 71kB 403kB/s \n",
            "\u001b[?25hRequirement already satisfied: urllib3>=1.21.1 in /usr/local/lib/python3.6/dist-packages (from qiskit-ibmq-provider==0.7.2->qiskit) (1.24.3)\n",
            "Requirement already satisfied: requests>=2.19 in /usr/local/lib/python3.6/dist-packages (from qiskit-ibmq-provider==0.7.2->qiskit) (2.23.0)\n",
            "Collecting nest-asyncio!=1.1.0,>=1.0.0\n",
            "  Downloading https://files.pythonhosted.org/packages/74/b4/b24e0a271fb78990c2c62238321686454824b1357ce7abcf20f431fd903d/nest_asyncio-1.3.3-py3-none-any.whl\n",
            "Collecting requests-ntlm>=1.1.0\n",
            "  Downloading https://files.pythonhosted.org/packages/03/4b/8b9a1afde8072c4d5710d9fa91433d504325821b038e00237dc8d6d833dc/requests_ntlm-1.1.0-py2.py3-none-any.whl\n",
            "Requirement already satisfied: setuptools>=40.1.0 in /usr/local/lib/python3.6/dist-packages (from qiskit-ignis==0.3.0->qiskit) (47.1.1)\n",
            "Requirement already satisfied: fastdtw in /usr/local/lib/python3.6/dist-packages (from qiskit-aqua==0.7.1->qiskit) (0.3.4)\n",
            "Requirement already satisfied: h5py in /usr/local/lib/python3.6/dist-packages (from qiskit-aqua==0.7.1->qiskit) (2.10.0)\n",
            "Collecting docplex\n",
            "\u001b[?25l  Downloading https://files.pythonhosted.org/packages/00/06/ad4441a00b8a9ff415882ff31273fe6519034879b6c2b65c47758a0278d5/docplex-2.14.186.tar.gz (572kB)\n",
            "\u001b[K     |████████████████████████████████| 573kB 46.4MB/s \n",
            "\u001b[?25hCollecting quandl\n",
            "  Downloading https://files.pythonhosted.org/packages/07/ab/8cd479fba8a9b197a43a0d55dd534b066fb8e5a0a04b5c0384cbc5d663aa/Quandl-3.5.0-py2.py3-none-any.whl\n",
            "Requirement already satisfied: scikit-learn>=0.20.0 in /usr/local/lib/python3.6/dist-packages (from qiskit-aqua==0.7.1->qiskit) (0.22.2.post1)\n",
            "Collecting pyscf; sys_platform != \"win32\"\n",
            "\u001b[?25l  Downloading https://files.pythonhosted.org/packages/0c/69/c6dad63aec5519c287036e82beb36ca46e4a409604676b8787425fa7499c/pyscf-1.7.3-cp36-cp36m-manylinux1_x86_64.whl (26.0MB)\n",
            "\u001b[K     |████████████████████████████████| 26.0MB 174kB/s \n",
            "\u001b[?25hCollecting dlx\n",
            "  Downloading https://files.pythonhosted.org/packages/54/c0/b8fb5bb727e983b6f5251433ef941b48f38c65bb0bd6ec509e9185bcd406/dlx-1.0.4.tar.gz\n",
            "Requirement already satisfied: mpmath>=0.19 in /usr/local/lib/python3.6/dist-packages (from sympy>=1.3->qiskit-terra==0.14.1->qiskit) (1.1.0)\n",
            "Requirement already satisfied: six>=1.5 in /usr/local/lib/python3.6/dist-packages (from python-dateutil>=2.8.0->qiskit-terra==0.14.1->qiskit) (1.12.0)\n",
            "Requirement already satisfied: decorator>=4.3.0 in /usr/local/lib/python3.6/dist-packages (from networkx>=2.2; python_version > \"3.5\"->qiskit-terra==0.14.1->qiskit) (4.4.2)\n",
            "Requirement already satisfied: certifi>=2017.4.17 in /usr/local/lib/python3.6/dist-packages (from requests>=2.19->qiskit-ibmq-provider==0.7.2->qiskit) (2020.4.5.1)\n",
            "Requirement already satisfied: idna<3,>=2.5 in /usr/local/lib/python3.6/dist-packages (from requests>=2.19->qiskit-ibmq-provider==0.7.2->qiskit) (2.9)\n",
            "Requirement already satisfied: chardet<4,>=3.0.2 in /usr/local/lib/python3.6/dist-packages (from requests>=2.19->qiskit-ibmq-provider==0.7.2->qiskit) (3.0.4)\n",
            "Collecting cryptography>=1.3\n",
            "\u001b[?25l  Downloading https://files.pythonhosted.org/packages/3c/04/686efee2dcdd25aecf357992e7d9362f443eb182ecd623f882bc9f7a6bba/cryptography-2.9.2-cp35-abi3-manylinux2010_x86_64.whl (2.7MB)\n",
            "\u001b[K     |████████████████████████████████| 2.7MB 45.0MB/s \n",
            "\u001b[?25hCollecting ntlm-auth>=1.0.2\n",
            "  Downloading https://files.pythonhosted.org/packages/50/09/5e397eb18685b14fd8b209e26cdb4fa6451c82c1bcc651fef05fa73e7b27/ntlm_auth-1.4.0-py2.py3-none-any.whl\n",
            "Collecting inflection>=0.3.1\n",
            "  Downloading https://files.pythonhosted.org/packages/d2/cd/f04c661d1b5ba6b7d77008e8fedd28a27a683eeeffcd93c6b2dbe54ea983/inflection-0.5.0-py2.py3-none-any.whl\n",
            "Requirement already satisfied: more-itertools in /usr/local/lib/python3.6/dist-packages (from quandl->qiskit-aqua==0.7.1->qiskit) (8.3.0)\n",
            "Requirement already satisfied: pandas>=0.14 in /usr/local/lib/python3.6/dist-packages (from quandl->qiskit-aqua==0.7.1->qiskit) (1.0.4)\n",
            "Requirement already satisfied: joblib>=0.11 in /usr/local/lib/python3.6/dist-packages (from scikit-learn>=0.20.0->qiskit-aqua==0.7.1->qiskit) (0.15.1)\n",
            "Requirement already satisfied: cffi!=1.11.3,>=1.8 in /usr/local/lib/python3.6/dist-packages (from cryptography>=1.3->requests-ntlm>=1.1.0->qiskit-ibmq-provider==0.7.2->qiskit) (1.14.0)\n",
            "Requirement already satisfied: pytz>=2017.2 in /usr/local/lib/python3.6/dist-packages (from pandas>=0.14->quandl->qiskit-aqua==0.7.1->qiskit) (2018.9)\n",
            "Requirement already satisfied: pycparser in /usr/local/lib/python3.6/dist-packages (from cffi!=1.11.3,>=1.8->cryptography>=1.3->requests-ntlm>=1.1.0->qiskit-ibmq-provider==0.7.2->qiskit) (2.20)\n",
            "Building wheels for collected packages: qiskit, python-constraint, marshmallow-polyfield, docplex, dlx\n",
            "  Building wheel for qiskit (setup.py) ... \u001b[?25l\u001b[?25hdone\n",
            "  Created wheel for qiskit: filename=qiskit-0.19.3-cp36-none-any.whl size=2899 sha256=daad6afb8c2e48265c2da67e8ea9ed3951795448f5beb873ea55ba10a87f9e4f\n",
            "  Stored in directory: /root/.cache/pip/wheels/6d/48/7e/b22ec709562f69eead9f6fd544a7f4658ed02442d7b1fc3853\n",
            "  Building wheel for python-constraint (setup.py) ... \u001b[?25l\u001b[?25hdone\n",
            "  Created wheel for python-constraint: filename=python_constraint-1.4.0-py2.py3-none-any.whl size=24080 sha256=ebd4b52dea5953983861fedb3dc986ab69f50571a31704d8fa4eb428acd18a3d\n",
            "  Stored in directory: /root/.cache/pip/wheels/34/31/15/7b070b25d0a549d20ce2e9fe6d727471c2c61ef904720fd40c\n",
            "  Building wheel for marshmallow-polyfield (setup.py) ... \u001b[?25l\u001b[?25hdone\n",
            "  Created wheel for marshmallow-polyfield: filename=marshmallow_polyfield-5.9-cp36-none-any.whl size=8537 sha256=c4b91f4a03ce2acc2419e68c0b24ea6d15aad6adb838d9aec20cbc566c71fd70\n",
            "  Stored in directory: /root/.cache/pip/wheels/69/27/3e/7472f75eab2db111aa387715fe009af15899459517fc1a1906\n",
            "  Building wheel for docplex (setup.py) ... \u001b[?25l\u001b[?25hdone\n",
            "  Created wheel for docplex: filename=docplex-2.14.186-cp36-none-any.whl size=634442 sha256=1ea9f7a91ac47b4d1493c408c8800918a783d9afe61e56fd88e228e43a2014ba\n",
            "  Stored in directory: /root/.cache/pip/wheels/aa/28/cd/ba75f92d49b25dacec6b80f99efcc393dc84abf33f96632ac4\n",
            "  Building wheel for dlx (setup.py) ... \u001b[?25l\u001b[?25hdone\n",
            "  Created wheel for dlx: filename=dlx-1.0.4-cp36-none-any.whl size=5712 sha256=38a5264fb3e50e2ff5e48608f4017ed106ee5819100de4b245f119eb27f3ac24\n",
            "  Stored in directory: /root/.cache/pip/wheels/bb/ba/15/fdd0deb104df3254912998150ba9245668db06b00af5912d1a\n",
            "Successfully built qiskit python-constraint marshmallow-polyfield docplex dlx\n",
            "Installing collected packages: marshmallow, sympy, python-constraint, fastjsonschema, marshmallow-polyfield, ply, retworkx, qiskit-terra, pybind11, qiskit-aer, websockets, nest-asyncio, cryptography, ntlm-auth, requests-ntlm, qiskit-ibmq-provider, qiskit-ignis, docplex, inflection, quandl, pyscf, dlx, qiskit-aqua, qiskit\n",
            "  Found existing installation: sympy 1.1.1\n",
            "    Uninstalling sympy-1.1.1:\n",
            "      Successfully uninstalled sympy-1.1.1\n",
            "Successfully installed cryptography-2.9.2 dlx-1.0.4 docplex-2.14.186 fastjsonschema-2.14.4 inflection-0.5.0 marshmallow-3.6.1 marshmallow-polyfield-5.9 nest-asyncio-1.3.3 ntlm-auth-1.4.0 ply-3.11 pybind11-2.5.0 pyscf-1.7.3 python-constraint-1.4.0 qiskit-0.19.3 qiskit-aer-0.5.2 qiskit-aqua-0.7.1 qiskit-ibmq-provider-0.7.2 qiskit-ignis-0.3.0 qiskit-terra-0.14.1 quandl-3.5.0 requests-ntlm-1.1.0 retworkx-0.3.4 sympy-1.6 websockets-7.0\n"
          ],
          "name": "stdout"
        }
      ]
    },
    {
      "cell_type": "markdown",
      "metadata": {
        "id": "cvX7Vzxpga9H",
        "colab_type": "text"
      },
      "source": [
        "Once we have Qiskit is installed we want to test that it's working properly."
      ]
    },
    {
      "cell_type": "code",
      "metadata": {
        "id": "HjJrId0rga9I",
        "colab_type": "code",
        "outputId": "8600ed1e-c281-4d00-e5e4-c1a73fc1db8a",
        "colab": {
          "base_uri": "https://localhost:8080/",
          "height": 34
        }
      },
      "source": [
        "import qiskit\n",
        "qiskit.__version__"
      ],
      "execution_count": 2,
      "outputs": [
        {
          "output_type": "execute_result",
          "data": {
            "text/plain": [
              "'0.14.1'"
            ]
          },
          "metadata": {
            "tags": []
          },
          "execution_count": 2
        }
      ]
    },
    {
      "cell_type": "markdown",
      "metadata": {
        "id": "ZSAK5SA1ga9N",
        "colab_type": "text"
      },
      "source": [
        "## Signup for the Quantum Experience\n",
        "\n",
        "While for the most part we'll use local simulation for this workshop, if you want to run anything on a real quantum device you'll need an account on the Quantum Experience. We'll do this before moving on:\n",
        "\n",
        "1. Visit: https://quantumexperience.ng.bluemix.net/qx/ and signup for an account. You can use a SSO from an IBMid, LinkedIn, Github, Google, or Twitter in addition to creating a new account.\n",
        "\n",
        "![Login Box](https://github.com/mtreinish/qiskit-workshop/blob/master/QX_login.png?raw=1)\n",
        "\n",
        "\n",
        "\n",
        "2. After you're logged into your new account visit: https://quantumexperience.ng.bluemix.net/qx/account/advanced where you'll need to generate an **API Token**. Once you've generated a token you'll want to copy it so we can use Qiskit to store it locally so it can be used for accessing the quantum devices.\n"
      ]
    },
    {
      "cell_type": "code",
      "metadata": {
        "id": "yWzXkqx7ga9P",
        "colab_type": "code",
        "outputId": "93690db6-74f4-42cb-c744-96b6155f3275",
        "colab": {
          "base_uri": "https://localhost:8080/",
          "height": 87
        }
      },
      "source": [
        "from qiskit import IBMQ\n",
        "IBMQ.save_account('5cfee5bc41f137e61223d0b3f2e0d5984d1c69c9f333682b22d58c3a453a8ddc16f5af9e903c7bb824bb12feb4728da661cc77c4663bd271a99ed55fd7d81b3d')\n",
        "# Enable your account on Qiskit, replace 'My_API_Token' with your newly generated token\n",
        "IBMQ.load_account()\n",
        "# After loading credentials we query the backends\n"
      ],
      "execution_count": 7,
      "outputs": [
        {
          "output_type": "stream",
          "text": [
            "configrc.store_credentials:WARNING:2020-06-12 05:03:15,547: Credentials already present. Set overwrite=True to overwrite.\n",
            "ibmqfactory.load_account:WARNING:2020-06-12 05:03:15,837: Credentials are already in use. The existing account in the session will be replaced.\n"
          ],
          "name": "stderr"
        },
        {
          "output_type": "execute_result",
          "data": {
            "text/plain": [
              "<AccountProvider for IBMQ(hub='ibm-q', group='open', project='main')>"
            ]
          },
          "metadata": {
            "tags": []
          },
          "execution_count": 7
        }
      ]
    },
    {
      "cell_type": "markdown",
      "metadata": {
        "id": "9UtDDcA2ga9o",
        "colab_type": "text"
      },
      "source": [
        "# The Qubit"
      ]
    },
    {
      "cell_type": "markdown",
      "metadata": {
        "id": "mv7g1xQXK0Gt",
        "colab_type": "text"
      },
      "source": [
        "Import necessary Package from Qiskit .\n"
      ]
    },
    {
      "cell_type": "code",
      "metadata": {
        "id": "tx9kg1CrJWaf",
        "colab_type": "code",
        "colab": {}
      },
      "source": [
        "from qiskit import *\n",
        "from qiskit import QuantumCircuit, execute, Aer\n",
        "from qiskit.visualization import plot_histogram\n",
        "\n",
        "%matplotlib inline"
      ],
      "execution_count": 0,
      "outputs": []
    },
    {
      "cell_type": "code",
      "metadata": {
        "id": "x_jxIkE9Jcxe",
        "colab_type": "code",
        "colab": {}
      },
      "source": [
        "qr=QuantumRegister(2)  #Allocate Quantum Bits\n",
        "cr=ClassicalRegister(2)  # Allocate Classical Bits\n",
        "circuit=QuantumCircuit(qr,cr) #Make Quantum Circuit\n"
      ],
      "execution_count": 0,
      "outputs": []
    },
    {
      "cell_type": "code",
      "metadata": {
        "id": "LkGUUKkvJ9TX",
        "colab_type": "code",
        "colab": {
          "base_uri": "https://localhost:8080/",
          "height": 154
        },
        "outputId": "bfee3a55-cea1-4b22-a4c1-c8a73aaaf59b"
      },
      "source": [
        "circuit.draw() # draw circuit"
      ],
      "execution_count": 23,
      "outputs": [
        {
          "output_type": "execute_result",
          "data": {
            "text/html": [
              "<pre style=\"word-wrap: normal;white-space: pre;background: #fff0;line-height: 1.1;font-family: &quot;Courier New&quot;,Courier,monospace\">      \n",
              "q2_0: \n",
              "      \n",
              "q2_1: \n",
              "      \n",
              "c2_0: \n",
              "      \n",
              "c2_1: \n",
              "      </pre>"
            ],
            "text/plain": [
              "      \n",
              "q2_0: \n",
              "      \n",
              "q2_1: \n",
              "      \n",
              "c2_0: \n",
              "      \n",
              "c2_1: \n",
              "      "
            ]
          },
          "metadata": {
            "tags": []
          },
          "execution_count": 23
        }
      ]
    },
    {
      "cell_type": "code",
      "metadata": {
        "id": "FpSokP07KAAh",
        "colab_type": "code",
        "colab": {
          "base_uri": "https://localhost:8080/",
          "height": 185
        },
        "outputId": "a917ea55-c8b1-4b0a-9383-fe69c08e7b62"
      },
      "source": [
        "circuit.draw(output='mpl') #draw circuit using matplotlib"
      ],
      "execution_count": 24,
      "outputs": [
        {
          "output_type": "execute_result",
          "data": {
            "image/png": "[encoded data removed]",
            "text/plain": [
              "<Figure size 189.028x204.68 with 1 Axes>"
            ]
          },
          "metadata": {
            "tags": []
          },
          "execution_count": 24
        }
      ]
    },
    {
      "cell_type": "markdown",
      "metadata": {
        "id": "EuA9-7UdLLh8",
        "colab_type": "text"
      },
      "source": [
        "# Measuring Qubit"
      ]
    },
    {
      "cell_type": "code",
      "metadata": {
        "id": "on5k3rR9KC2Q",
        "colab_type": "code",
        "colab": {}
      },
      "source": [
        "n = 8\n",
        "n_q = 8\n",
        "n_b = 8\n",
        "qc_output = QuantumCircuit(n_q,n_b)"
      ],
      "execution_count": 0,
      "outputs": []
    },
    {
      "cell_type": "code",
      "metadata": {
        "id": "C1A-PjTQKg4V",
        "colab_type": "code",
        "colab": {
          "base_uri": "https://localhost:8080/",
          "height": 458
        },
        "outputId": "e93851b7-83b3-48da-8e6c-de456e890a3e"
      },
      "source": [
        "for j in range(n):\n",
        "    qc_output.measure(j,j)\n",
        "qc_output.draw(output='mpl')"
      ],
      "execution_count": 28,
      "outputs": [
        {
          "output_type": "execute_result",
          "data": {
            "image/png": "[encoded data removed]",
            "text/plain": [
              "<Figure size 659.792x565.88 with 1 Axes>"
            ]
          },
          "metadata": {
            "tags": []
          },
          "execution_count": 28
        }
      ]
    },
    {
      "cell_type": "code",
      "metadata": {
        "id": "MlAP2DSqLJrY",
        "colab_type": "code",
        "colab": {
          "base_uri": "https://localhost:8080/",
          "height": 380
        },
        "outputId": "00ae6b20-6a45-4f50-e53e-bd7f7b743221"
      },
      "source": [
        "counts = execute(qc_output,Aer.get_backend('qasm_simulator')).result().get_counts()\n",
        "plot_histogram(counts)"
      ],
      "execution_count": 29,
      "outputs": [
        {
          "output_type": "execute_result",
          "data": {
            "image/png": "[encoded data removed]",
            "text/plain": [
              "<Figure size 504x360 with 1 Axes>"
            ]
          },
          "metadata": {
            "tags": []
          },
          "execution_count": 29
        }
      ]
    },
    {
      "cell_type": "code",
      "metadata": {
        "id": "lzBZBsLBMolW",
        "colab_type": "code",
        "colab": {}
      },
      "source": [
        ""
      ],
      "execution_count": 0,
      "outputs": []
    },
    {
      "cell_type": "markdown",
      "metadata": {
        "id": "incI6IxJMpM5",
        "colab_type": "text"
      },
      "source": [
        "# NOT GATE\n",
        "NOT is the quantum equivalent of the eponymous conventional operation. Zero becomes one, and vice\n",
        "5\n",
        "versa. However, unlike its traditional cousin, a QPU NOT operation can also operate on a qubit in\n",
        "superposition.\n",
        "\n",
        "![not gate](https://github.com/MahamShafiq/MEDIUM-ARTICLES-EMBEDDS/blob/master/1.PNG)"
      ]
    },
    {
      "cell_type": "code",
      "metadata": {
        "id": "1BRwkNQ4Klgc",
        "colab_type": "code",
        "colab": {
          "base_uri": "https://localhost:8080/",
          "height": 185
        },
        "outputId": "0eb92d98-3525-40c0-e83f-0726cc6ac588"
      },
      "source": [
        "n=2\n",
        "qc = QuantumCircuit(n,n)\n",
        "qc.x(0)\n",
        "qc.draw(output='mpl')"
      ],
      "execution_count": 78,
      "outputs": [
        {
          "output_type": "execute_result",
          "data": {
            "image/png": "[encoded data removed]",
            "text/plain": [
              "<Figure size 238.392x204.68 with 1 Axes>"
            ]
          },
          "metadata": {
            "tags": []
          },
          "execution_count": 78
        }
      ]
    },
    {
      "cell_type": "code",
      "metadata": {
        "id": "M2qTbs90Lh3F",
        "colab_type": "code",
        "colab": {
          "base_uri": "https://localhost:8080/",
          "height": 185
        },
        "outputId": "e584c8bb-b021-4008-eadd-778025c3721c"
      },
      "source": [
        "for j in range(n):\n",
        "    qc.measure(j,j)\n",
        "qc.draw(output='mpl')"
      ],
      "execution_count": 58,
      "outputs": [
        {
          "output_type": "execute_result",
          "data": {
            "image/png": "[encoded data removed]",
            "text/plain": [
              "<Figure size 298.592x204.68 with 1 Axes>"
            ]
          },
          "metadata": {
            "tags": []
          },
          "execution_count": 58
        }
      ]
    },
    {
      "cell_type": "code",
      "metadata": {
        "id": "oD-RcK_PLnPl",
        "colab_type": "code",
        "colab": {
          "base_uri": "https://localhost:8080/",
          "height": 331
        },
        "outputId": "440018cd-09ef-4b6e-814c-a88a9e1f84a6"
      },
      "source": [
        "counts = execute(qc,Aer.get_backend('qasm_simulator')).result().get_counts()\n",
        "plot_histogram(counts)"
      ],
      "execution_count": 60,
      "outputs": [
        {
          "output_type": "execute_result",
          "data": {
            "image/png": "[encoded data removed]",
            "text/plain": [
              "<Figure size 504x360 with 1 Axes>"
            ]
          },
          "metadata": {
            "tags": []
          },
          "execution_count": 60
        }
      ]
    },
    {
      "cell_type": "markdown",
      "metadata": {
        "id": "u62rZP_yPA-W",
        "colab_type": "text"
      },
      "source": [
        "# CNOT Gate\n",
        "CNOT operates on two qubits and can be thought of as an “if” programming construct\n",
        "with the following condition: “Apply the NOT operation to a target qubit, but only if a condition\n",
        "qubit has the value 1.” The circuit symbol used for CNOT shows this logic by connecting two qubits\n",
        "with a line. A filled dot represents the control qubit, while a NOT symbol shows the target qubit to be\n",
        "conditionally operated on"
      ]
    },
    {
      "cell_type": "code",
      "metadata": {
        "id": "vpsZ6SWRPijh",
        "colab_type": "code",
        "colab": {
          "base_uri": "https://localhost:8080/",
          "height": 185
        },
        "outputId": "8bc38728-a7a4-4717-f570-746f679218de"
      },
      "source": [
        "qc = QuantumCircuit(2,2)\n",
        "qc.x(0)\n",
        "qc.cx(0,1)\n",
        "qc.measure(0,0)\n",
        "\n",
        "qc.measure(1,1)\n",
        "qc.draw(output='mpl')"
      ],
      "execution_count": 62,
      "outputs": [
        {
          "output_type": "execute_result",
          "data": {
            "image/png": "[encoded data removed]",
            "text/plain": [
              "<Figure size 418.992x204.68 with 1 Axes>"
            ]
          },
          "metadata": {
            "tags": []
          },
          "execution_count": 62
        }
      ]
    },
    {
      "cell_type": "code",
      "metadata": {
        "id": "JR1SJD2RPr2T",
        "colab_type": "code",
        "colab": {
          "base_uri": "https://localhost:8080/",
          "height": 331
        },
        "outputId": "41e9200b-aa29-42eb-9d12-7790649a4f21"
      },
      "source": [
        "counts = execute(qc,Aer.get_backend('qasm_simulator')).result().get_counts()\n",
        "plot_histogram(counts)"
      ],
      "execution_count": 63,
      "outputs": [
        {
          "output_type": "execute_result",
          "data": {
            "image/png": "[encoded data removed]",
            "text/plain": [
              "<Figure size 504x360 with 1 Axes>"
            ]
          },
          "metadata": {
            "tags": []
          },
          "execution_count": 63
        }
      ]
    },
    {
      "cell_type": "code",
      "metadata": {
        "id": "peMA9NbcP1eq",
        "colab_type": "code",
        "colab": {
          "base_uri": "https://localhost:8080/",
          "height": 185
        },
        "outputId": "3804660c-3908-4b1e-834e-c749faccaa47"
      },
      "source": [
        "qc = QuantumCircuit(2,2)\n",
        "qc.cx(0,1)\n",
        "qc.measure(0,0)\n",
        "\n",
        "qc.measure(1,1)\n",
        "qc.draw(output='mpl')"
      ],
      "execution_count": 64,
      "outputs": [
        {
          "output_type": "execute_result",
          "data": {
            "image/png": "[encoded data removed]",
            "text/plain": [
              "<Figure size 358.792x204.68 with 1 Axes>"
            ]
          },
          "metadata": {
            "tags": []
          },
          "execution_count": 64
        }
      ]
    },
    {
      "cell_type": "code",
      "metadata": {
        "id": "lPm51OgZQBr9",
        "colab_type": "code",
        "colab": {
          "base_uri": "https://localhost:8080/",
          "height": 331
        },
        "outputId": "ad2caef2-8c7b-4089-e1a7-b9f5d20e58e0"
      },
      "source": [
        "counts = execute(qc,Aer.get_backend('qasm_simulator')).result().get_counts()\n",
        "plot_histogram(counts)"
      ],
      "execution_count": 65,
      "outputs": [
        {
          "output_type": "execute_result",
          "data": {
            "image/png": "[encoded data removed]",
            "text/plain": [
              "<Figure size 504x360 with 1 Axes>"
            ]
          },
          "metadata": {
            "tags": []
          },
          "execution_count": 65
        }
      ]
    },
    {
      "cell_type": "markdown",
      "metadata": {
        "id": "MqZB8EMNQg6p",
        "colab_type": "text"
      },
      "source": [
        "# HAD Gate\n",
        "The HAD operation (short for Hadamard) essentially creates an equal superposition when presented\n",
        "with either a ∣0 or ∣1 state. This is our gateway drug into using the bizarre and delicate\n",
        "parallelism of quantum superposition! Unlike NOT, it has no conventional equivalent.\n"
      ]
    },
    {
      "cell_type": "code",
      "metadata": {
        "id": "hH88hwxiQCZ8",
        "colab_type": "code",
        "colab": {
          "base_uri": "https://localhost:8080/",
          "height": 140
        },
        "outputId": "6835df98-8bb8-4ac7-8ef2-4a9484c16726"
      },
      "source": [
        "qc = QuantumCircuit(1,1)\n",
        "qc.h(0)\n",
        "qc.measure(0,0)\n",
        "\n",
        "qc.measure(0,0)\n",
        "qc.draw(output='mpl')\n"
      ],
      "execution_count": 74,
      "outputs": [
        {
          "output_type": "execute_result",
          "data": {
            "image/png": "[encoded data removed]",
            "text/plain": [
              "<Figure size 353.976x144.48 with 1 Axes>"
            ]
          },
          "metadata": {
            "tags": []
          },
          "execution_count": 74
        }
      ]
    },
    {
      "cell_type": "code",
      "metadata": {
        "id": "M9B-DdftSAI_",
        "colab_type": "code",
        "colab": {
          "base_uri": "https://localhost:8080/",
          "height": 323
        },
        "outputId": "7c99e90f-c72a-4b74-8679-cfc630440529"
      },
      "source": [
        "counts = execute(qc,Aer.get_backend('qasm_simulator')).result().get_counts()\n",
        "plot_histogram(counts)"
      ],
      "execution_count": 75,
      "outputs": [
        {
          "output_type": "execute_result",
          "data": {
            "image/png": "[encoded data removed]",
            "text/plain": [
              "<Figure size 504x360 with 1 Axes>"
            ]
          },
          "metadata": {
            "tags": []
          },
          "execution_count": 75
        }
      ]
    },
    {
      "cell_type": "markdown",
      "metadata": {
        "id": "sG9HvwSaRvvM",
        "colab_type": "text"
      },
      "source": [
        "# Half Adder Circuit (Quantum Version)\n",
        "The computer uses binary numbers 0 and 1. An adder circuit uses these binary numbers and calculates the addition. A binary adder circuit can be made using XOR and AND gates. The summation output provides two elements, the first one is the SUM and the second one is the Carry Out.\n",
        "\n",
        "For quantum computers, we use the same basic idea, but we have different conventions for how to represent inputs, outputs, and the symbols used for operations. Here is the quantum circuit that represents the same process as above."
      ]
    },
    {
      "cell_type": "code",
      "metadata": {
        "id": "JNl-QHq4R32s",
        "colab_type": "code",
        "colab": {
          "base_uri": "https://localhost:8080/",
          "height": 276
        },
        "outputId": "f74868f3-f78d-46da-9dbb-4422fb0f7143"
      },
      "source": [
        "qc_ha = QuantumCircuit(4,2)\n",
        "# encode inputs in qubits 0 and 1\n",
        "qc_ha.x(0) # For a=0, remove this line. For a=1, leave it.\n",
        "qc_ha.x(1) # For b=0, remove this line. For b=1, leave it.\n",
        "qc_ha.barrier()\n",
        "# use cnots to write the XOR of the inputs on qubit 2\n",
        "qc_ha.cx(0,2)\n",
        "qc_ha.cx(1,2)\n",
        "qc_ha.barrier()\n",
        "qc_ha.ccx(0,1,3)\n",
        "# extract outputs\n",
        "qc_ha.measure(2,0) # extract XOR value\n",
        "qc_ha.measure(3,1)\n",
        "\n",
        "qc_ha.draw(output='mpl')"
      ],
      "execution_count": 81,
      "outputs": [
        {
          "output_type": "execute_result",
          "data": {
            "image/png": "[encoded data removed]",
            "text/plain": [
              "<Figure size 659.792x325.08 with 1 Axes>"
            ]
          },
          "metadata": {
            "tags": []
          },
          "execution_count": 81
        }
      ]
    },
    {
      "cell_type": "code",
      "metadata": {
        "id": "krZjUMrkSmA7",
        "colab_type": "code",
        "colab": {
          "base_uri": "https://localhost:8080/",
          "height": 331
        },
        "outputId": "20821443-e555-4854-b2ed-1155e15cdf1f"
      },
      "source": [
        "counts = execute(qc_ha,Aer.get_backend('qasm_simulator')).result().get_counts()\n",
        "plot_histogram(counts)\n",
        "#1st bit show carry out and second bit show sum"
      ],
      "execution_count": 82,
      "outputs": [
        {
          "output_type": "execute_result",
          "data": {
            "image/png": "[encoded data removed]",
            "text/plain": [
              "<Figure size 504x360 with 1 Axes>"
            ]
          },
          "metadata": {
            "tags": []
          },
          "execution_count": 82
        }
      ]
    },
    {
      "cell_type": "code",
      "metadata": {
        "id": "emsAeW1VS0Go",
        "colab_type": "code",
        "colab": {}
      },
      "source": [
        ""
      ],
      "execution_count": 0,
      "outputs": []
    }
  ]
}